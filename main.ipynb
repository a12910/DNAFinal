{
 "cells": [
  {
   "cell_type": "code",
   "execution_count": 1,
   "outputs": [
    {
     "name": "stdout",
     "output_type": "stream",
     "text": [
      "[00:20:06] [INIT        ] File Hash: 5e9f48bd613eacfb6252c77ae7306a73\n"
     ]
    }
   ],
   "source": [
    "import ltcode as lt\n",
    "from ltcode import LOG\n",
    "import dnaIO as dna\n",
    "fileName = \"data/hat-768x512.png\"\n",
    "outFile = \"data/hat-768x512-out.png\"\n",
    "\n",
    "hashInit = dna.compute_file_hash(fileName)\n",
    "LOG.Basic(\"INIT\", \"File Hash: %s\" % hashInit)\n",
    "\n",
    "dnaConv = dna.DNAConverter2()\n",
    "byteConv = dna.AssembleConverter2()"
   ],
   "metadata": {
    "collapsed": false,
    "pycharm": {
     "name": "#%%\n"
    }
   }
  },
  {
   "cell_type": "code",
   "execution_count": 2,
   "outputs": [
    {
     "name": "stdout",
     "output_type": "stream",
     "text": [
      "[00:20:06] [INIT        ] Filesize: 502888 bytes\n",
      "[00:20:06] [INIT        ] Blocks: 1965 -> 3930 * 256 bytes\n",
      "[00:20:06] [ENCODE      ] Start Encode\n",
      "[00:20:06] [LT-ENCODE   ] Generating graph...\n",
      "[00:20:06] [LT-ENCODE   ] Ready for encoding.\n",
      "[00:20:06] [LT-ENCODE   ] Correctly dropped 3930 symbols (packet size=65536)\n",
      "[00:20:06] [ENCODE      ] End Encode\n"
     ]
    }
   ],
   "source": [
    "# 载入并切分文件\n",
    "# 喷泉码比例\n",
    "lt_ratio = 2.0\n",
    "fileBlocks, fileBlocksN, dropQuantity, fileSize = lt.load_files(fileName, 48, lt_ratio)\n",
    "\n",
    "# 生成喷泉码\n",
    "fileSymbols = lt.create_symbols(fileBlocks, dropQuantity)"
   ],
   "metadata": {
    "collapsed": false,
    "pycharm": {
     "name": "#%%\n"
    }
   }
  },
  {
   "cell_type": "code",
   "execution_count": 3,
   "outputs": [
    {
     "name": "stdout",
     "output_type": "stream",
     "text": [
      "[00:20:06] [ASSEM-ENCODE] Convert Symbol->Bytes Start\n",
      "[00:20:06] [ASSEM-ENCODE] Convert Symbol->Bytes Finish\n"
     ]
    }
   ],
   "source": [
    "# 生成拼接比特流\n",
    "bitsArr = byteConv.convert_bytes_form_symbols(fileSymbols, fileSize, blocksN=fileBlocksN)"
   ],
   "metadata": {
    "collapsed": false,
    "pycharm": {
     "name": "#%%\n"
    }
   }
  },
  {
   "cell_type": "code",
   "execution_count": 4,
   "outputs": [
    {
     "name": "stdout",
     "output_type": "stream",
     "text": [
      "[00:20:06] [DNA-ENCODE  ] Convert Bytes->DNA Start use: Same2\n",
      "[00:20:09] [DNA-ENCODE  ] Convert Bytes->DNA Finish Count: 5033152/3930=1280\n",
      "[00:20:09] [DNA-ENCODE  ] Convert Bytes->DNA CGRatio: 0.468 0.473 0.474 0.475 0.479\n"
     ]
    }
   ],
   "source": [
    "# 生成DNAArr\n",
    "dnaArr = dna.convert_dnaArr_from_bitArr(bitsArr, conv=dnaConv)"
   ],
   "metadata": {
    "collapsed": false,
    "pycharm": {
     "name": "#%%\n"
    }
   }
  },
  {
   "cell_type": "code",
   "execution_count": 5,
   "outputs": [
    {
     "name": "stdout",
     "output_type": "stream",
     "text": [
      "[00:20:10] [DESTORY     ] Destroy DNA 3930 --PCR-> 39300 --Destory(0.050000)-> 37400\n"
     ]
    }
   ],
   "source": [
    "# 进行模拟损毁\n",
    "# 丢失率\n",
    "lost = 0.05\n",
    "# 替换率\n",
    "replace = 0.01\n",
    "# PCR扩增率\n",
    "pcr = 10\n",
    "dnaArrOut = dna.destory_DNAs(dnaArr, lost, pcr, replace)"
   ],
   "metadata": {
    "collapsed": false,
    "pycharm": {
     "name": "#%%\n"
    }
   }
  },
  {
   "cell_type": "code",
   "execution_count": 6,
   "outputs": [
    {
     "name": "stdout",
     "output_type": "stream",
     "text": [
      "[00:20:10] [DNA-DECODE  ] Convert DNA->Bytes Start use: Same2\n"
     ]
    },
    {
     "ename": "KeyboardInterrupt",
     "evalue": "",
     "output_type": "error",
     "traceback": [
      "\u001B[0;31m---------------------------------------------------------------------------\u001B[0m",
      "\u001B[0;31mKeyboardInterrupt\u001B[0m                         Traceback (most recent call last)",
      "\u001B[0;32m<ipython-input-6-96dc51228db5>\u001B[0m in \u001B[0;36m<module>\u001B[0;34m\u001B[0m\n\u001B[1;32m      1\u001B[0m \u001B[0;31m# 使用DNA进行恢复为比特流\u001B[0m\u001B[0;34m\u001B[0m\u001B[0;34m\u001B[0m\u001B[0;34m\u001B[0m\u001B[0m\n\u001B[0;32m----> 2\u001B[0;31m \u001B[0mbitsArrOut\u001B[0m \u001B[0;34m=\u001B[0m \u001B[0mdna\u001B[0m\u001B[0;34m.\u001B[0m\u001B[0mconvert_bitArr_from_DNAs\u001B[0m\u001B[0;34m(\u001B[0m\u001B[0mdnaArrOut\u001B[0m\u001B[0;34m,\u001B[0m \u001B[0mconv\u001B[0m\u001B[0;34m=\u001B[0m\u001B[0mdnaConv\u001B[0m\u001B[0;34m)\u001B[0m\u001B[0;34m\u001B[0m\u001B[0;34m\u001B[0m\u001B[0m\n\u001B[0m",
      "\u001B[0;32m~/CODE/code_works/DNAFinal/dnaIO/convertDNA.py\u001B[0m in \u001B[0;36mconvert_bitArr_from_DNAs\u001B[0;34m(DNAs, conv)\u001B[0m\n\u001B[1;32m     55\u001B[0m     \u001B[0mLOG\u001B[0m\u001B[0;34m.\u001B[0m\u001B[0mBasic\u001B[0m\u001B[0;34m(\u001B[0m\u001B[0;34m\"DNA-DECODE\"\u001B[0m\u001B[0;34m,\u001B[0m \u001B[0;34m\"Convert DNA->Bytes Start use: %s\"\u001B[0m \u001B[0;34m%\u001B[0m \u001B[0mconv\u001B[0m\u001B[0;34m.\u001B[0m\u001B[0mname\u001B[0m\u001B[0;34m)\u001B[0m\u001B[0;34m\u001B[0m\u001B[0;34m\u001B[0m\u001B[0m\n\u001B[1;32m     56\u001B[0m     \u001B[0;32mfor\u001B[0m \u001B[0mdna\u001B[0m \u001B[0;32min\u001B[0m \u001B[0mDNAs\u001B[0m\u001B[0;34m:\u001B[0m\u001B[0;34m\u001B[0m\u001B[0;34m\u001B[0m\u001B[0m\n\u001B[0;32m---> 57\u001B[0;31m         \u001B[0mbits\u001B[0m \u001B[0;34m=\u001B[0m \u001B[0mconv\u001B[0m\u001B[0;34m.\u001B[0m\u001B[0mDNA_to_byteArray\u001B[0m\u001B[0;34m(\u001B[0m\u001B[0mdna\u001B[0m\u001B[0;34m)\u001B[0m\u001B[0;34m\u001B[0m\u001B[0;34m\u001B[0m\u001B[0m\n\u001B[0m\u001B[1;32m     58\u001B[0m         \u001B[0mresult\u001B[0m\u001B[0;34m.\u001B[0m\u001B[0mappend\u001B[0m\u001B[0;34m(\u001B[0m\u001B[0mbits\u001B[0m\u001B[0;34m)\u001B[0m\u001B[0;34m\u001B[0m\u001B[0;34m\u001B[0m\u001B[0m\n\u001B[1;32m     59\u001B[0m     \u001B[0mLOG\u001B[0m\u001B[0;34m.\u001B[0m\u001B[0mBasic\u001B[0m\u001B[0;34m(\u001B[0m\u001B[0;34m\"DNA-DECODE\"\u001B[0m\u001B[0;34m,\u001B[0m \u001B[0;34m\"Convert DNA->Bytes Finish\"\u001B[0m\u001B[0;34m)\u001B[0m\u001B[0;34m\u001B[0m\u001B[0;34m\u001B[0m\u001B[0m\n",
      "\u001B[0;32m~/CODE/code_works/DNAFinal/dnaIO/convertDNA2.py\u001B[0m in \u001B[0;36mDNA_to_byteArray\u001B[0;34m(self, dna)\u001B[0m\n\u001B[1;32m     70\u001B[0m         \u001B[0mself\u001B[0m\u001B[0;34m.\u001B[0m\u001B[0mclear\u001B[0m\u001B[0;34m(\u001B[0m\u001B[0;34m)\u001B[0m\u001B[0;34m\u001B[0m\u001B[0;34m\u001B[0m\u001B[0m\n\u001B[1;32m     71\u001B[0m         \u001B[0;32mfor\u001B[0m \u001B[0mchar\u001B[0m \u001B[0;32min\u001B[0m \u001B[0mdna\u001B[0m\u001B[0;34m.\u001B[0m\u001B[0mdata\u001B[0m\u001B[0;34m:\u001B[0m\u001B[0;34m\u001B[0m\u001B[0;34m\u001B[0m\u001B[0m\n\u001B[0;32m---> 72\u001B[0;31m             \u001B[0mself\u001B[0m\u001B[0;34m.\u001B[0m\u001B[0m__DNA8_to_bit\u001B[0m\u001B[0;34m(\u001B[0m\u001B[0mchar\u001B[0m\u001B[0;34m)\u001B[0m\u001B[0;34m\u001B[0m\u001B[0;34m\u001B[0m\u001B[0m\n\u001B[0m\u001B[1;32m     73\u001B[0m         \u001B[0;32mreturn\u001B[0m \u001B[0mself\u001B[0m\u001B[0;34m.\u001B[0m\u001B[0mbyteResult\u001B[0m\u001B[0;34m\u001B[0m\u001B[0;34m\u001B[0m\u001B[0m\n\u001B[1;32m     74\u001B[0m \u001B[0;34m\u001B[0m\u001B[0m\n",
      "\u001B[0;32m~/CODE/code_works/DNAFinal/dnaIO/convertDNA2.py\u001B[0m in \u001B[0;36m__DNA8_to_bit\u001B[0;34m(self, char)\u001B[0m\n\u001B[1;32m     88\u001B[0m             \u001B[0mkey\u001B[0m \u001B[0;34m=\u001B[0m \u001B[0mlast3\u001B[0m \u001B[0;34m+\u001B[0m \u001B[0mchar\u001B[0m\u001B[0;34m\u001B[0m\u001B[0;34m\u001B[0m\u001B[0m\n\u001B[1;32m     89\u001B[0m             \u001B[0;32mif\u001B[0m \u001B[0mkey\u001B[0m \u001B[0;32min\u001B[0m \u001B[0mdic\u001B[0m\u001B[0;34m:\u001B[0m\u001B[0;34m\u001B[0m\u001B[0;34m\u001B[0m\u001B[0m\n\u001B[0;32m---> 90\u001B[0;31m                 \u001B[0mindex\u001B[0m \u001B[0;34m=\u001B[0m \u001B[0mdic\u001B[0m\u001B[0;34m.\u001B[0m\u001B[0mindex\u001B[0m\u001B[0;34m(\u001B[0m\u001B[0mkey\u001B[0m\u001B[0;34m)\u001B[0m\u001B[0;34m\u001B[0m\u001B[0;34m\u001B[0m\u001B[0m\n\u001B[0m\u001B[1;32m     91\u001B[0m                 \u001B[0mself\u001B[0m\u001B[0;34m.\u001B[0m\u001B[0m__add_byte\u001B[0m\u001B[0;34m(\u001B[0m\u001B[0mindex\u001B[0m\u001B[0;34m)\u001B[0m\u001B[0;34m\u001B[0m\u001B[0;34m\u001B[0m\u001B[0m\n\u001B[1;32m     92\u001B[0m                 \u001B[0mself\u001B[0m\u001B[0;34m.\u001B[0m\u001B[0m__add_count\u001B[0m\u001B[0;34m(\u001B[0m\u001B[0mkey\u001B[0m\u001B[0;34m)\u001B[0m\u001B[0;34m\u001B[0m\u001B[0;34m\u001B[0m\u001B[0m\n",
      "\u001B[0;31mKeyboardInterrupt\u001B[0m: "
     ]
    }
   ],
   "source": [
    "# 使用DNA进行恢复为比特流\n",
    "bitsArrOut = dna.convert_bitArr_from_DNAs(dnaArrOut, conv=dnaConv)"
   ],
   "metadata": {
    "collapsed": false,
    "pycharm": {
     "name": "#%%\n"
    }
   }
  },
  {
   "cell_type": "code",
   "execution_count": null,
   "outputs": [],
   "source": [
    "# 从比特流恢复到喷泉码\n",
    "symbolsOut, fileSizeOut, fileBlocksNOut = byteConv.convert_symbols_from_bitArray(bitsArrOut)"
   ],
   "metadata": {
    "collapsed": false,
    "pycharm": {
     "name": "#%%\n"
    }
   }
  },
  {
   "cell_type": "markdown",
   "source": [],
   "metadata": {
    "collapsed": false
   }
  },
  {
   "cell_type": "code",
   "execution_count": null,
   "outputs": [],
   "source": [
    "# 使用喷泉码进行恢复\n",
    "recoveredBlocks, recoverdN = lt.decode_from_symbols(symbolsOut, fileBlocksNOut)\n",
    "\n",
    "# 导出恢复的文件\n",
    "with open(outFile, \"wb\") as file:\n",
    "    lt.blocks_write(recoveredBlocks, file, fileSizeOut)\n",
    "\n",
    "hashOut = dna.compute_file_hash(outFile)\n",
    "LOG.Basic(\"FINISH\", \"OutFile Hash: %s\" % hashOut)\n",
    "LOG.Basic(\"FINISH\", \"File Convert %s\" % (\"Success\" if hashOut == hashInit else \"Failed\"))"
   ],
   "metadata": {
    "collapsed": false,
    "pycharm": {
     "name": "#%%\n"
    }
   }
  },
  {
   "cell_type": "code",
   "execution_count": null,
   "outputs": [],
   "source": [],
   "metadata": {
    "collapsed": false,
    "pycharm": {
     "name": "#%%\n"
    }
   }
  },
  {
   "cell_type": "code",
   "execution_count": null,
   "outputs": [],
   "source": [],
   "metadata": {
    "collapsed": false,
    "pycharm": {
     "name": "#%%\n"
    }
   }
  }
 ],
 "metadata": {
  "kernelspec": {
   "display_name": "Python 3",
   "language": "python",
   "name": "python3"
  },
  "language_info": {
   "codemirror_mode": {
    "name": "ipython",
    "version": 2
   },
   "file_extension": ".py",
   "mimetype": "text/x-python",
   "name": "python",
   "nbconvert_exporter": "python",
   "pygments_lexer": "ipython2",
   "version": "2.7.6"
  }
 },
 "nbformat": 4,
 "nbformat_minor": 0
}