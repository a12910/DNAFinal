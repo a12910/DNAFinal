{
 "cells": [
  {
   "cell_type": "code",
   "execution_count": 1,
   "outputs": [
    {
     "name": "stdout",
     "output_type": "stream",
     "text": [
      "[18:36:54] [INIT] File Hash: 5e9f48bd613eacfb6252c77ae7306a73\n"
     ]
    }
   ],
   "source": [
    "import ltcode as lt\n",
    "from ltcode import LOG\n",
    "import dnaIO as dna\n",
    "fileName = \"data/hat-768x512.png\"\n",
    "outFile = \"data/hat-768x512-out.png\"\n",
    "\n",
    "hashInit = dna.compute_file_hash(fileName)\n",
    "LOG.Basic(\"INIT\", \"File Hash: %s\" % hashInit)"
   ],
   "metadata": {
    "collapsed": false,
    "pycharm": {
     "name": "#%%\n"
    }
   }
  },
  {
   "cell_type": "code",
   "execution_count": 2,
   "outputs": [
    {
     "name": "stdout",
     "output_type": "stream",
     "text": [
      "[18:36:55] [INIT] Filesize: 502888 bytes\n",
      "[18:36:55] [INIT] Blocks: 983 -> 1966 * 512 bytes\n",
      "[18:36:55] [ENCODE] Start Encode\n",
      "[18:36:55] [LT-ENCODE] Generating graph...\n",
      "[18:36:55] [LT-ENCODE] Ready for encoding.\n",
      "[18:36:55] [LT-ENCODE] Correctly dropped 1966 symbols (packet size=65536)\n",
      "[18:36:55] [ENCODE] End Encode\n"
     ]
    }
   ],
   "source": [
    "# 载入并切分文件\n",
    "fileBlocks, fileBlocksN, dropQuantity, fileSize = lt.load_files(fileName, 256, 2)\n",
    "\n",
    "# 生成喷泉码\n",
    "fileSymbols = lt.create_symbols(fileBlocks, dropQuantity)"
   ],
   "metadata": {
    "collapsed": false,
    "pycharm": {
     "name": "#%%\n"
    }
   }
  },
  {
   "cell_type": "code",
   "execution_count": 3,
   "outputs": [
    {
     "name": "stdout",
     "output_type": "stream",
     "text": [
      "[18:36:56] [ASSEM-ENCODE] Convert Symbol -> Bytes Start\n",
      "[18:36:56] [ASSEM] Convert Symbol -> Bytes Finish\n"
     ]
    }
   ],
   "source": [
    "# 生成拼接比特流\n",
    "bitsArr = dna.convert_bytes_form_symbols(fileSymbols, fileSize, blocksN=fileBlocksN)"
   ],
   "metadata": {
    "collapsed": false,
    "pycharm": {
     "name": "#%%\n"
    }
   }
  },
  {
   "cell_type": "code",
   "execution_count": 4,
   "outputs": [
    {
     "name": "stdout",
     "output_type": "stream",
     "text": [
      "[18:36:57] [DNA-ENCODE] Convert Bytes -> DNA Start\n",
      "[18:37:02] [DNA-ENCODE] Convert Bytes -> DNA Finish\n"
     ]
    }
   ],
   "source": [
    "# 生成DNAArr\n",
    "dnaArr = dna.convert_dnaArr_from_bitArr(bitsArr)"
   ],
   "metadata": {
    "collapsed": false,
    "pycharm": {
     "name": "#%%\n"
    }
   }
  },
  {
   "cell_type": "code",
   "execution_count": 5,
   "outputs": [
    {
     "name": "stdout",
     "output_type": "stream",
     "text": [
      "[18:37:24] [DESTORY] Destroy DNA 1966 --PCR-> 19660 --Destory(0.050000)-> 18736\n"
     ]
    }
   ],
   "source": [
    "# 进行模拟损毁\n",
    "dnaArrOut = dna.destory_DNAs(dnaArr, 0.05, 10)"
   ],
   "metadata": {
    "collapsed": false,
    "pycharm": {
     "name": "#%%\n"
    }
   }
  },
  {
   "cell_type": "code",
   "execution_count": 6,
   "outputs": [
    {
     "name": "stdout",
     "output_type": "stream",
     "text": [
      "[18:37:26] [DNA-DECODE] Convert DNA -> Bytes Start\n",
      "[18:37:34] [DNA-DECODE] Convert DNA -> Bytes Finish\n"
     ]
    }
   ],
   "source": [
    "# 使用DNA进行恢复为比特流\n",
    "bitsArrOut = dna.convert_bitArr_from_DNAs(dnaArrOut)"
   ],
   "metadata": {
    "collapsed": false,
    "pycharm": {
     "name": "#%%\n"
    }
   }
  },
  {
   "cell_type": "code",
   "execution_count": 7,
   "outputs": [
    {
     "name": "stdout",
     "output_type": "stream",
     "text": [
      "[18:37:36] [ASSEM-DECODE] Convert Bytes -> Symbols Start\n",
      "[18:37:36] [ASSEM-DECODE] Parse Legal Symbol: 18736 / 18736 FileSize: 502888 BlockN: 983\n",
      "[18:37:36] [ASSEM-DECODE] Convert Bytes -> Symbols FINISH\n"
     ]
    }
   ],
   "source": [
    "# 从比特流恢复到喷泉码\n",
    "symbolsOut, fileSizeOut, fileBlocksNOut = dna.convert_symbols_from_bitArray(bitsArrOut)"
   ],
   "metadata": {
    "collapsed": false,
    "pycharm": {
     "name": "#%%\n"
    }
   }
  },
  {
   "cell_type": "markdown",
   "source": [],
   "metadata": {
    "collapsed": false
   }
  },
  {
   "cell_type": "code",
   "execution_count": 8,
   "outputs": [
    {
     "name": "stdout",
     "output_type": "stream",
     "text": [
      "[18:37:38] [DECODE] Start Decode\n",
      "[18:37:38] [LT-DECODE] Graph built back. Ready for decoding.\n",
      "[18:37:39] [LT-DECODE] ----- Solved Blocks 983/983 --\n",
      "[18:37:39] [DECODE] End Decode\n",
      "[18:37:39] [FINISH] OutFile Hash: 5e9f48bd613eacfb6252c77ae7306a73\n",
      "[18:37:39] [FINISH] File Convert Success\n"
     ]
    }
   ],
   "source": [
    "# 使用喷泉码进行恢复\n",
    "recoveredBlocks, recoverdN = lt.decode_from_symbols(symbolsOut, fileBlocksNOut)\n",
    "\n",
    "# 导出恢复的文件\n",
    "with open(outFile, \"wb\") as file:\n",
    "    lt.blocks_write(recoveredBlocks, file, fileSizeOut)\n",
    "\n",
    "hashOut = dna.compute_file_hash(outFile)\n",
    "LOG.Basic(\"FINISH\", \"OutFile Hash: %s\" % hashOut)\n",
    "LOG.Basic(\"FINISH\", \"File Convert %s\" % (\"Success\" if hashOut == hashInit else \"Failed\"))"
   ],
   "metadata": {
    "collapsed": false,
    "pycharm": {
     "name": "#%%\n"
    }
   }
  },
  {
   "cell_type": "code",
   "execution_count": null,
   "outputs": [],
   "source": [],
   "metadata": {
    "collapsed": false,
    "pycharm": {
     "name": "#%%\n"
    }
   }
  },
  {
   "cell_type": "code",
   "execution_count": null,
   "outputs": [],
   "source": [],
   "metadata": {
    "collapsed": false,
    "pycharm": {
     "name": "#%%\n"
    }
   }
  }
 ],
 "metadata": {
  "kernelspec": {
   "display_name": "Python 3",
   "language": "python",
   "name": "python3"
  },
  "language_info": {
   "codemirror_mode": {
    "name": "ipython",
    "version": 2
   },
   "file_extension": ".py",
   "mimetype": "text/x-python",
   "name": "python",
   "nbconvert_exporter": "python",
   "pygments_lexer": "ipython2",
   "version": "2.7.6"
  }
 },
 "nbformat": 4,
 "nbformat_minor": 0
}