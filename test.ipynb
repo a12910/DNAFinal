{
 "cells": [
  {
   "cell_type": "code",
   "execution_count": 7,
   "metadata": {
    "collapsed": true
   },
   "outputs": [
    {
     "name": "stdout",
     "output_type": "stream",
     "text": [
      "bytearray(b'\\x00\\x00\\x00\\x80')\n",
      "128 128\n",
      "CCACAACCAACACAAAAACAACAAGACCACCA\n",
      "bytearray(b'\\x00\\x00\\x00\\x80') bytearray(b'\\x00\\x00\\x00\\x80')\n"
     ]
    }
   ],
   "source": [
    "import dnaIO as dna\n",
    "value = 128\n",
    "arr = dna.AssembleConverter.assemble_test(value)\n",
    "dna.DNAConverter.convertDNA_test(arr)"
   ]
  },
  {
   "cell_type": "code",
   "execution_count": null,
   "outputs": [],
   "source": [],
   "metadata": {
    "collapsed": false,
    "pycharm": {
     "name": "#%%\n"
    }
   }
  }
 ],
 "metadata": {
  "kernelspec": {
   "display_name": "Python 3",
   "language": "python",
   "name": "python3"
  },
  "language_info": {
   "codemirror_mode": {
    "name": "ipython",
    "version": 2
   },
   "file_extension": ".py",
   "mimetype": "text/x-python",
   "name": "python",
   "nbconvert_exporter": "python",
   "pygments_lexer": "ipython2",
   "version": "2.7.6"
  }
 },
 "nbformat": 4,
 "nbformat_minor": 0
}