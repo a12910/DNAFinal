{
 "cells": [
  {
   "cell_type": "code",
   "execution_count": 5,
   "metadata": {
    "collapsed": true,
    "pycharm": {
     "name": "#%%\n"
    }
   },
   "outputs": [
    {
     "name": "stdout",
     "output_type": "stream",
     "text": [
      "AACAACAACAACAACAACAACAACAACAACAACAACAACAACAACAA\n"
     ]
    }
   ],
   "source": [
    "import dnaIO as dna\n",
    "value = 128\n",
    "conv = dna.DNAConverter2()\n",
    "conv.useDynamicMap = False\n",
    "bits = bytearray(8)\n",
    "dna1 = conv.byteArray_to_DNA(bits)\n",
    "print(dna1.data)"
   ]
  },
  {
   "cell_type": "code",
   "execution_count": 6,
   "outputs": [
    {
     "name": "stdout",
     "output_type": "stream",
     "text": [
      "AACAACACCGACCTATTGATTGAGGCAGAACAACACCGACCTA\n"
     ]
    }
   ],
   "source": [
    "conv2 = dna.DNAConverter2()\n",
    "conv2.useDynamicMap = True\n",
    "print(conv2.byteArray_to_DNA(bits).data)"
   ],
   "metadata": {
    "collapsed": false,
    "pycharm": {
     "name": "#%%\n"
    }
   }
  },
  {
   "cell_type": "code",
   "execution_count": null,
   "outputs": [],
   "source": [],
   "metadata": {
    "collapsed": false,
    "pycharm": {
     "name": "#%%\n"
    }
   }
  }
 ],
 "metadata": {
  "kernelspec": {
   "display_name": "Python 3",
   "language": "python",
   "name": "python3"
  },
  "language_info": {
   "codemirror_mode": {
    "name": "ipython",
    "version": 2
   },
   "file_extension": ".py",
   "mimetype": "text/x-python",
   "name": "python",
   "nbconvert_exporter": "python",
   "pygments_lexer": "ipython2",
   "version": "2.7.6"
  }
 },
 "nbformat": 4,
 "nbformat_minor": 0
}